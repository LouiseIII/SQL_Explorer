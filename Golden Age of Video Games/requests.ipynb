{
 "cells": [
  {
   "cell_type": "code",
   "execution_count": null,
   "metadata": {},
   "outputs": [],
   "source": [
    "import pandas as pd\n",
    "import sqlite3\n",
    "import os \n",
    "\n",
    "import plotly.graph_objects as go\n",
    "import matplotlib.pyplot as plt\n",
    "import seaborn as sns\n",
    "import plotly\n",
    "\n",
    "os.chdir('/Users/louise/Documents/PJTS/SQL/Formation/SQL_Explorer/Golden Age of Video Games')\n",
    "conn= sqlite3.connect(\"datacamp_python.db\")"
   ]
  },
  {
   "cell_type": "code",
   "execution_count": 2,
   "metadata": {},
   "outputs": [
    {
     "data": {
      "text/html": [
       "<div>\n",
       "<style scoped>\n",
       "    .dataframe tbody tr th:only-of-type {\n",
       "        vertical-align: middle;\n",
       "    }\n",
       "\n",
       "    .dataframe tbody tr th {\n",
       "        vertical-align: top;\n",
       "    }\n",
       "\n",
       "    .dataframe thead th {\n",
       "        text-align: right;\n",
       "    }\n",
       "</style>\n",
       "<table border=\"1\" class=\"dataframe\">\n",
       "  <thead>\n",
       "    <tr style=\"text-align: right;\">\n",
       "      <th></th>\n",
       "      <th>Rank</th>\n",
       "      <th>Name</th>\n",
       "      <th>Platform</th>\n",
       "      <th>Publisher</th>\n",
       "      <th>Developer</th>\n",
       "      <th>Critic_Score</th>\n",
       "      <th>User_Score</th>\n",
       "      <th>Total_Shipped</th>\n",
       "      <th>Year</th>\n",
       "    </tr>\n",
       "  </thead>\n",
       "  <tbody>\n",
       "    <tr>\n",
       "      <th>0</th>\n",
       "      <td>1</td>\n",
       "      <td>Wii Sports</td>\n",
       "      <td>Wii</td>\n",
       "      <td>Nintendo</td>\n",
       "      <td>Nintendo EAD</td>\n",
       "      <td>7.7</td>\n",
       "      <td>8.0</td>\n",
       "      <td>82.90</td>\n",
       "      <td>2006</td>\n",
       "    </tr>\n",
       "    <tr>\n",
       "      <th>1</th>\n",
       "      <td>2</td>\n",
       "      <td>Super Mario Bros.</td>\n",
       "      <td>NES</td>\n",
       "      <td>Nintendo</td>\n",
       "      <td>Nintendo EAD</td>\n",
       "      <td>10.0</td>\n",
       "      <td>8.2</td>\n",
       "      <td>40.24</td>\n",
       "      <td>1985</td>\n",
       "    </tr>\n",
       "    <tr>\n",
       "      <th>2</th>\n",
       "      <td>3</td>\n",
       "      <td>Counter-Strike: Global Offensive</td>\n",
       "      <td>PC</td>\n",
       "      <td>Valve</td>\n",
       "      <td>Valve Corporation</td>\n",
       "      <td>8.0</td>\n",
       "      <td>7.5</td>\n",
       "      <td>40.00</td>\n",
       "      <td>2012</td>\n",
       "    </tr>\n",
       "    <tr>\n",
       "      <th>3</th>\n",
       "      <td>4</td>\n",
       "      <td>Mario Kart Wii</td>\n",
       "      <td>Wii</td>\n",
       "      <td>Nintendo</td>\n",
       "      <td>Nintendo EAD</td>\n",
       "      <td>8.2</td>\n",
       "      <td>9.1</td>\n",
       "      <td>37.32</td>\n",
       "      <td>2008</td>\n",
       "    </tr>\n",
       "    <tr>\n",
       "      <th>4</th>\n",
       "      <td>5</td>\n",
       "      <td>PLAYERUNKNOWN'S BATTLEGROUNDS</td>\n",
       "      <td>PC</td>\n",
       "      <td>PUBG Corporation</td>\n",
       "      <td>PUBG Corporation</td>\n",
       "      <td>8.6</td>\n",
       "      <td>4.7</td>\n",
       "      <td>36.60</td>\n",
       "      <td>2017</td>\n",
       "    </tr>\n",
       "  </tbody>\n",
       "</table>\n",
       "</div>"
      ],
      "text/plain": [
       "   Rank                              Name Platform         Publisher  \\\n",
       "0     1                        Wii Sports      Wii          Nintendo   \n",
       "1     2                 Super Mario Bros.      NES          Nintendo   \n",
       "2     3  Counter-Strike: Global Offensive       PC             Valve   \n",
       "3     4                    Mario Kart Wii      Wii          Nintendo   \n",
       "4     5     PLAYERUNKNOWN'S BATTLEGROUNDS       PC  PUBG Corporation   \n",
       "\n",
       "           Developer  Critic_Score  User_Score  Total_Shipped  Year  \n",
       "0       Nintendo EAD           7.7         8.0          82.90  2006  \n",
       "1       Nintendo EAD          10.0         8.2          40.24  1985  \n",
       "2  Valve Corporation           8.0         7.5          40.00  2012  \n",
       "3       Nintendo EAD           8.2         9.1          37.32  2008  \n",
       "4   PUBG Corporation           8.6         4.7          36.60  2017  "
      ]
     },
     "execution_count": 2,
     "metadata": {},
     "output_type": "execute_result"
    }
   ],
   "source": [
    "df_games = pd.read_csv(\"game_sales_data.csv\", encoding=\"ISO-8859-1\")\n",
    "df_columns = df_games.columns\n",
    "df_games.head(5)"
   ]
  },
  {
   "cell_type": "code",
   "execution_count": 3,
   "metadata": {},
   "outputs": [
    {
     "data": {
      "text/plain": [
       "19600"
      ]
     },
     "execution_count": 3,
     "metadata": {},
     "output_type": "execute_result"
    }
   ],
   "source": [
    "df_games.to_sql(\n",
    "            'game_sales_data',            \n",
    "             conn,                \n",
    "             if_exists='replace'\n",
    "            )"
   ]
  },
  {
   "cell_type": "code",
   "execution_count": 4,
   "metadata": {},
   "outputs": [],
   "source": [
    "cursor = conn.cursor()"
   ]
  },
  {
   "cell_type": "markdown",
   "metadata": {},
   "source": [
    "The **Video Game Sales Dataset** provides comprehensive information on video game sales, spanning multiple platforms and publishers. It includes data on over **16,500 video games** released between **1977 and 2020**. The dataset covers key attributes such as: \n",
    "\n",
    "- **Game Information**:  \n",
    "  - `Name`: Title of the game (13.6k unique values, most common: *Minecraft*).  \n",
    "  - `Platform`: Gaming platform (e.g., DS, PS2, Xbox, etc., 37 unique platforms).  \n",
    "  - `Publisher` & `Developer`: Information on the companies behind the game (e.g., Activision, Ubisoft).  \n",
    "\n",
    "- **Sales Data**:  \n",
    "  - `Total_Shipped`: Number of units sold (ranging from **0.01M to 82.9M** copies).  \n",
    "  - `Rank`: Sales ranking based on total units sold.  \n",
    "\n",
    "- **Ratings & Reviews**:  \n",
    "  - `Critic_Score`: Scores given by professional critics (ranging from **0.8 to 10**, average **7.03**).  \n",
    "  - `User_Score`: Ratings given by players (**1 to 10**, average **6.99**).  \n",
    "\n",
    "\n",
    "# 📊 Database Overview\n",
    "\n",
    "This script analyzes the `game_sales_data` table and provides a statistical summary of each column, including:\n",
    "\n",
    "- **Column Name**: The name of the column.\n",
    "- **Missing Values**: The number of missing (NULL) values in the column.\n",
    "- **Distinct Values**: The number of unique values in the column.\n",
    "- **Min Value**: The smallest value in the column (numerically or alphabetically).\n",
    "- **Max Value**: The largest value in the column (numerically or alphabetically).\n",
    "\n",
    "This overview helps understand data quality, detect missing values, and analyze the distribution of values in the dataset.\n",
    "\n"
   ]
  },
  {
   "cell_type": "code",
   "execution_count": 5,
   "metadata": {},
   "outputs": [
    {
     "data": {
      "text/html": [
       "<div>\n",
       "<style scoped>\n",
       "    .dataframe tbody tr th:only-of-type {\n",
       "        vertical-align: middle;\n",
       "    }\n",
       "\n",
       "    .dataframe tbody tr th {\n",
       "        vertical-align: top;\n",
       "    }\n",
       "\n",
       "    .dataframe thead th {\n",
       "        text-align: right;\n",
       "    }\n",
       "</style>\n",
       "<table border=\"1\" class=\"dataframe\">\n",
       "  <thead>\n",
       "    <tr style=\"text-align: right;\">\n",
       "      <th></th>\n",
       "      <th>Column</th>\n",
       "      <th>Missing Values</th>\n",
       "      <th>Distinct Values</th>\n",
       "      <th>Min Value</th>\n",
       "      <th>Max Value</th>\n",
       "    </tr>\n",
       "  </thead>\n",
       "  <tbody>\n",
       "    <tr>\n",
       "      <th>0</th>\n",
       "      <td>Rank</td>\n",
       "      <td>0.00</td>\n",
       "      <td>19598</td>\n",
       "      <td>1</td>\n",
       "      <td>19598</td>\n",
       "    </tr>\n",
       "    <tr>\n",
       "      <th>1</th>\n",
       "      <td>Name</td>\n",
       "      <td>0.00</td>\n",
       "      <td>13612</td>\n",
       "      <td>'98 Koshien</td>\n",
       "      <td>uDraw Studio: Instant Artist</td>\n",
       "    </tr>\n",
       "    <tr>\n",
       "      <th>2</th>\n",
       "      <td>Platform</td>\n",
       "      <td>0.00</td>\n",
       "      <td>37</td>\n",
       "      <td>2600</td>\n",
       "      <td>XOne</td>\n",
       "    </tr>\n",
       "    <tr>\n",
       "      <th>3</th>\n",
       "      <td>Publisher</td>\n",
       "      <td>0.00</td>\n",
       "      <td>1012</td>\n",
       "      <td>10TACLE Studios</td>\n",
       "      <td>team BitClub</td>\n",
       "    </tr>\n",
       "    <tr>\n",
       "      <th>4</th>\n",
       "      <td>Developer</td>\n",
       "      <td>0.01</td>\n",
       "      <td>3054</td>\n",
       "      <td>07th Expansion</td>\n",
       "      <td>zSlide</td>\n",
       "    </tr>\n",
       "    <tr>\n",
       "      <th>5</th>\n",
       "      <td>Critic_Score</td>\n",
       "      <td>49.14</td>\n",
       "      <td>90</td>\n",
       "      <td>0.8</td>\n",
       "      <td>10.0</td>\n",
       "    </tr>\n",
       "    <tr>\n",
       "      <th>6</th>\n",
       "      <td>User_Score</td>\n",
       "      <td>88.66</td>\n",
       "      <td>88</td>\n",
       "      <td>1.0</td>\n",
       "      <td>10.0</td>\n",
       "    </tr>\n",
       "    <tr>\n",
       "      <th>7</th>\n",
       "      <td>Total_Shipped</td>\n",
       "      <td>0.00</td>\n",
       "      <td>664</td>\n",
       "      <td>0.01</td>\n",
       "      <td>82.9</td>\n",
       "    </tr>\n",
       "    <tr>\n",
       "      <th>8</th>\n",
       "      <td>Year</td>\n",
       "      <td>0.00</td>\n",
       "      <td>44</td>\n",
       "      <td>1977</td>\n",
       "      <td>2020</td>\n",
       "    </tr>\n",
       "  </tbody>\n",
       "</table>\n",
       "</div>"
      ],
      "text/plain": [
       "          Column  Missing Values  Distinct Values        Min Value  \\\n",
       "0           Rank            0.00            19598                1   \n",
       "1           Name            0.00            13612      '98 Koshien   \n",
       "2       Platform            0.00               37             2600   \n",
       "3      Publisher            0.00             1012  10TACLE Studios   \n",
       "4      Developer            0.01             3054   07th Expansion   \n",
       "5   Critic_Score           49.14               90              0.8   \n",
       "6     User_Score           88.66               88              1.0   \n",
       "7  Total_Shipped            0.00              664             0.01   \n",
       "8           Year            0.00               44             1977   \n",
       "\n",
       "                      Max Value  \n",
       "0                         19598  \n",
       "1  uDraw Studio: Instant Artist  \n",
       "2                          XOne  \n",
       "3                  team BitClub  \n",
       "4                        zSlide  \n",
       "5                          10.0  \n",
       "6                          10.0  \n",
       "7                          82.9  \n",
       "8                          2020  "
      ]
     },
     "metadata": {},
     "output_type": "display_data"
    }
   ],
   "source": [
    "data_overview = []\n",
    "\n",
    "for col in df_columns:\n",
    "    query = f\"\"\"\n",
    "        SELECT \n",
    "            COUNT(*) - COUNT({col}) AS missing_values,\n",
    "            COUNT(DISTINCT {col}) AS distinct_values,\n",
    "            MIN({col}) AS min_value,\n",
    "            MAX({col}) AS max_value\n",
    "        FROM game_sales_data;\n",
    "    \"\"\"\n",
    "    data_sql_col = pd.read_sql(query, conn)\n",
    "\n",
    "    data_length = pd.read_sql(\"\"\"SELECT COUNT(*) AS count FROM game_sales_data\"\"\", conn)\n",
    "    \n",
    "    data_overview.append([\n",
    "        col, \n",
    "        round(data_sql_col['missing_values'][0] / data_length['count'][0] *100, 2), \n",
    "        data_sql_col['distinct_values'][0], \n",
    "        data_sql_col['min_value'][0] , \n",
    "        data_sql_col['max_value'][0]\n",
    "    ])\n",
    "\n",
    "df_overview = pd.DataFrame(data_overview, columns=[\"Column\", \"Missing Values\", \"Distinct Values\", \"Min Value\", \"Max Value\"])\n",
    "display(df_overview)\n"
   ]
  },
  {
   "cell_type": "markdown",
   "metadata": {},
   "source": [
    "## 🎮 Exploring Game Sales: *Grand Theft Auto V*\n",
    "\n",
    "The following query retrieves all available records for **Grand Theft Auto V**, showing its sales performance across different platforms:  \n"
   ]
  },
  {
   "cell_type": "code",
   "execution_count": 6,
   "metadata": {},
   "outputs": [
    {
     "data": {
      "text/html": [
       "<div>\n",
       "<style scoped>\n",
       "    .dataframe tbody tr th:only-of-type {\n",
       "        vertical-align: middle;\n",
       "    }\n",
       "\n",
       "    .dataframe tbody tr th {\n",
       "        vertical-align: top;\n",
       "    }\n",
       "\n",
       "    .dataframe thead th {\n",
       "        text-align: right;\n",
       "    }\n",
       "</style>\n",
       "<table border=\"1\" class=\"dataframe\">\n",
       "  <thead>\n",
       "    <tr style=\"text-align: right;\">\n",
       "      <th></th>\n",
       "      <th>index</th>\n",
       "      <th>Rank</th>\n",
       "      <th>Name</th>\n",
       "      <th>Platform</th>\n",
       "      <th>Publisher</th>\n",
       "      <th>Developer</th>\n",
       "      <th>Critic_Score</th>\n",
       "      <th>User_Score</th>\n",
       "      <th>Total_Shipped</th>\n",
       "      <th>Year</th>\n",
       "    </tr>\n",
       "  </thead>\n",
       "  <tbody>\n",
       "    <tr>\n",
       "      <th>0</th>\n",
       "      <td>22</td>\n",
       "      <td>23</td>\n",
       "      <td>Grand Theft Auto V</td>\n",
       "      <td>PS3</td>\n",
       "      <td>Rockstar Games</td>\n",
       "      <td>Rockstar North</td>\n",
       "      <td>9.4</td>\n",
       "      <td>8.3</td>\n",
       "      <td>20.32</td>\n",
       "      <td>2013</td>\n",
       "    </tr>\n",
       "    <tr>\n",
       "      <th>1</th>\n",
       "      <td>23</td>\n",
       "      <td>24</td>\n",
       "      <td>Grand Theft Auto V</td>\n",
       "      <td>PS4</td>\n",
       "      <td>Rockstar Games</td>\n",
       "      <td>Rockstar North</td>\n",
       "      <td>9.7</td>\n",
       "      <td>8.4</td>\n",
       "      <td>19.39</td>\n",
       "      <td>2014</td>\n",
       "    </tr>\n",
       "    <tr>\n",
       "      <th>2</th>\n",
       "      <td>40</td>\n",
       "      <td>41</td>\n",
       "      <td>Grand Theft Auto V</td>\n",
       "      <td>X360</td>\n",
       "      <td>Rockstar Games</td>\n",
       "      <td>Rockstar North</td>\n",
       "      <td>10.0</td>\n",
       "      <td>NaN</td>\n",
       "      <td>15.86</td>\n",
       "      <td>2013</td>\n",
       "    </tr>\n",
       "    <tr>\n",
       "      <th>3</th>\n",
       "      <td>70</td>\n",
       "      <td>71</td>\n",
       "      <td>Grand Theft Auto V</td>\n",
       "      <td>PC</td>\n",
       "      <td>Rockstar Games</td>\n",
       "      <td>Rockstar North</td>\n",
       "      <td>9.6</td>\n",
       "      <td>7.7</td>\n",
       "      <td>12.60</td>\n",
       "      <td>2015</td>\n",
       "    </tr>\n",
       "    <tr>\n",
       "      <th>4</th>\n",
       "      <td>122</td>\n",
       "      <td>123</td>\n",
       "      <td>Grand Theft Auto V</td>\n",
       "      <td>XOne</td>\n",
       "      <td>Rockstar Games</td>\n",
       "      <td>Rockstar North</td>\n",
       "      <td>9.0</td>\n",
       "      <td>9.0</td>\n",
       "      <td>8.72</td>\n",
       "      <td>2014</td>\n",
       "    </tr>\n",
       "  </tbody>\n",
       "</table>\n",
       "</div>"
      ],
      "text/plain": [
       "   index  Rank                Name Platform       Publisher       Developer  \\\n",
       "0     22    23  Grand Theft Auto V      PS3  Rockstar Games  Rockstar North   \n",
       "1     23    24  Grand Theft Auto V      PS4  Rockstar Games  Rockstar North   \n",
       "2     40    41  Grand Theft Auto V     X360  Rockstar Games  Rockstar North   \n",
       "3     70    71  Grand Theft Auto V       PC  Rockstar Games  Rockstar North   \n",
       "4    122   123  Grand Theft Auto V     XOne  Rockstar Games  Rockstar North   \n",
       "\n",
       "   Critic_Score  User_Score  Total_Shipped  Year  \n",
       "0           9.4         8.3          20.32  2013  \n",
       "1           9.7         8.4          19.39  2014  \n",
       "2          10.0         NaN          15.86  2013  \n",
       "3           9.6         7.7          12.60  2015  \n",
       "4           9.0         9.0           8.72  2014  "
      ]
     },
     "metadata": {},
     "output_type": "display_data"
    }
   ],
   "source": [
    "cursor = conn.cursor()\n",
    "data_sql_names = pd.read_sql(\"\"\"\n",
    "    SELECT * \n",
    "    FROM game_sales_data \n",
    "    WHERE Name = 'Grand Theft Auto V';\n",
    "\"\"\", conn)\n",
    "\n",
    "display(data_sql_names)"
   ]
  },
  {
   "cell_type": "markdown",
   "metadata": {},
   "source": [
    "- **Multi-Platform Success**: *Grand Theft Auto V* was released on multiple platforms, including **PS3, PS4, Xbox 360, Xbox One, and PC**.  \n",
    "- **Strong Sales**: The game **sold over 20 million copies on PS3 alone**, with notable sales across all other platforms.  \n",
    "- **High Critic Scores**: The game received **consistently high critic scores (9.0+ across all platforms)**, peaking at **10.0 on Xbox 360**.  \n",
    "- **Varying User Scores**: While most versions have **strong user scores**, the **PC version has a slightly lower rating (7.7)**, possibly due to **technical issues at launch**.  \n",
    "- **Missing Data**: The **User Score for the Xbox 360 version is missing**, highlighting potential gaps in the dataset.  \n",
    "\n",
    "# The 10 Best-Selling Video Games  \n",
    "\n",
    "The following SQL query retrieves the **10 best-selling video games** based on total units shipped. It groups the dataset by game name and calculates key metrics:  \n",
    "\n",
    "- **First Release Year (`first_year`)**: The earliest release year of the game.  \n",
    "- **Number of Platforms (`nbr_platforms`)**: The number of different platforms the game was released on.  \n",
    "- **Total Units Shipped (`sum_total_shipped`)**: The total sales in millions of copies.  \n",
    "- **Minimum & Maximum Critic Scores (`min_critic_score`, `max_critic_score`)**: The lowest and highest critic scores recorded for the game.  \n"
   ]
  },
  {
   "cell_type": "code",
   "execution_count": 7,
   "metadata": {},
   "outputs": [
    {
     "data": {
      "text/html": [
       "<div>\n",
       "<style scoped>\n",
       "    .dataframe tbody tr th:only-of-type {\n",
       "        vertical-align: middle;\n",
       "    }\n",
       "\n",
       "    .dataframe tbody tr th {\n",
       "        vertical-align: top;\n",
       "    }\n",
       "\n",
       "    .dataframe thead th {\n",
       "        text-align: right;\n",
       "    }\n",
       "</style>\n",
       "<table border=\"1\" class=\"dataframe\">\n",
       "  <thead>\n",
       "    <tr style=\"text-align: right;\">\n",
       "      <th></th>\n",
       "      <th>Name</th>\n",
       "      <th>first_year</th>\n",
       "      <th>nbr_platforms</th>\n",
       "      <th>sum_total_shipped</th>\n",
       "      <th>min_critic_score</th>\n",
       "      <th>max_critic_score</th>\n",
       "    </tr>\n",
       "  </thead>\n",
       "  <tbody>\n",
       "    <tr>\n",
       "      <th>0</th>\n",
       "      <td>Wii Sports</td>\n",
       "      <td>2006</td>\n",
       "      <td>1</td>\n",
       "      <td>82.90</td>\n",
       "      <td>7.7</td>\n",
       "      <td>7.7</td>\n",
       "    </tr>\n",
       "    <tr>\n",
       "      <th>1</th>\n",
       "      <td>Grand Theft Auto V</td>\n",
       "      <td>2013</td>\n",
       "      <td>5</td>\n",
       "      <td>76.89</td>\n",
       "      <td>9.0</td>\n",
       "      <td>10.0</td>\n",
       "    </tr>\n",
       "    <tr>\n",
       "      <th>2</th>\n",
       "      <td>Minecraft</td>\n",
       "      <td>2010</td>\n",
       "      <td>9</td>\n",
       "      <td>70.16</td>\n",
       "      <td>5.5</td>\n",
       "      <td>10.0</td>\n",
       "    </tr>\n",
       "    <tr>\n",
       "      <th>3</th>\n",
       "      <td>Super Mario Bros.</td>\n",
       "      <td>1985</td>\n",
       "      <td>1</td>\n",
       "      <td>40.24</td>\n",
       "      <td>10.0</td>\n",
       "      <td>10.0</td>\n",
       "    </tr>\n",
       "    <tr>\n",
       "      <th>4</th>\n",
       "      <td>Counter-Strike: Global Offensive</td>\n",
       "      <td>2012</td>\n",
       "      <td>1</td>\n",
       "      <td>40.00</td>\n",
       "      <td>8.0</td>\n",
       "      <td>8.0</td>\n",
       "    </tr>\n",
       "    <tr>\n",
       "      <th>5</th>\n",
       "      <td>Mario Kart Wii</td>\n",
       "      <td>2008</td>\n",
       "      <td>1</td>\n",
       "      <td>37.32</td>\n",
       "      <td>8.2</td>\n",
       "      <td>8.2</td>\n",
       "    </tr>\n",
       "    <tr>\n",
       "      <th>6</th>\n",
       "      <td>PLAYERUNKNOWN'S BATTLEGROUNDS</td>\n",
       "      <td>2017</td>\n",
       "      <td>1</td>\n",
       "      <td>36.60</td>\n",
       "      <td>8.6</td>\n",
       "      <td>8.6</td>\n",
       "    </tr>\n",
       "    <tr>\n",
       "      <th>7</th>\n",
       "      <td>Tetris</td>\n",
       "      <td>1989</td>\n",
       "      <td>2</td>\n",
       "      <td>35.84</td>\n",
       "      <td>9.4</td>\n",
       "      <td>9.4</td>\n",
       "    </tr>\n",
       "    <tr>\n",
       "      <th>8</th>\n",
       "      <td>Wii Sports Resort</td>\n",
       "      <td>2009</td>\n",
       "      <td>1</td>\n",
       "      <td>33.13</td>\n",
       "      <td>8.0</td>\n",
       "      <td>8.0</td>\n",
       "    </tr>\n",
       "    <tr>\n",
       "      <th>9</th>\n",
       "      <td>Pokemon Red / Green / Blue Version</td>\n",
       "      <td>1998</td>\n",
       "      <td>1</td>\n",
       "      <td>31.38</td>\n",
       "      <td>9.4</td>\n",
       "      <td>9.4</td>\n",
       "    </tr>\n",
       "  </tbody>\n",
       "</table>\n",
       "</div>"
      ],
      "text/plain": [
       "                                 Name  first_year  nbr_platforms  \\\n",
       "0                          Wii Sports        2006              1   \n",
       "1                  Grand Theft Auto V        2013              5   \n",
       "2                           Minecraft        2010              9   \n",
       "3                   Super Mario Bros.        1985              1   \n",
       "4    Counter-Strike: Global Offensive        2012              1   \n",
       "5                      Mario Kart Wii        2008              1   \n",
       "6       PLAYERUNKNOWN'S BATTLEGROUNDS        2017              1   \n",
       "7                              Tetris        1989              2   \n",
       "8                   Wii Sports Resort        2009              1   \n",
       "9  Pokemon Red / Green / Blue Version        1998              1   \n",
       "\n",
       "   sum_total_shipped  min_critic_score  max_critic_score  \n",
       "0              82.90               7.7               7.7  \n",
       "1              76.89               9.0              10.0  \n",
       "2              70.16               5.5              10.0  \n",
       "3              40.24              10.0              10.0  \n",
       "4              40.00               8.0               8.0  \n",
       "5              37.32               8.2               8.2  \n",
       "6              36.60               8.6               8.6  \n",
       "7              35.84               9.4               9.4  \n",
       "8              33.13               8.0               8.0  \n",
       "9              31.38               9.4               9.4  "
      ]
     },
     "metadata": {},
     "output_type": "display_data"
    }
   ],
   "source": [
    "data_sql_vg = pd.read_sql(\"\"\"\n",
    "    SELECT Name,\n",
    "            MIN(Year) AS first_year,\n",
    "            COUNT(*) AS nbr_platforms,\n",
    "            SUM(Total_Shipped) AS sum_total_shipped,\n",
    "            MIN(Critic_Score) AS min_critic_score,\n",
    "            MAX(Critic_Score) AS max_critic_score\n",
    "    FROM game_sales_data \n",
    "    GROUP BY Name\n",
    "    ORDER BY sum_total_shipped DESC\n",
    "    LIMIT 10;\n",
    "\"\"\", conn)\n",
    "\n",
    "display(data_sql_vg)"
   ]
  },
  {
   "cell_type": "markdown",
   "metadata": {},
   "source": [
    "- **Wii Sports is the Best-Selling Game**: With **82.9M units sold**, it surpasses *GTA V* and *Minecraft*.  \n",
    "- **Multi-Platform Games Sell More**: *Grand Theft Auto V* and *Minecraft* achieved high sales due to their availability on **multiple platforms** (5 and 9, respectively).  \n",
    "- **High-Critic Score Classics**: *Super Mario Bros.* and *Tetris* maintain a **perfect 10/10 critic score**, reflecting their **enduring legacy**.  \n",
    "- **Newer Hits vs. Classics**: *PLAYERUNKNOWN'S BATTLEGROUNDS (2017)* stands out as a modern best-seller, while *Super Mario Bros. (1985)* still holds a top position after **decades**.  \n",
    "- **Variability in Critic Scores**: *Minecraft* has a **low critic score of 5.5**, possibly due to earlier versions, but reaches **10.0** on certain platforms.  \n",
    "\n",
    "# Years that Received Critical Acclaim in Video Games\n",
    "\n",
    "In this section, we analyzed the evolution of video game releases and review scores over time. Using SQL, we extracted yearly aggregated data from a video game sales database, calculating key metrics such as:  \n",
    "\n",
    "- **Number of games released per year**  \n",
    "- **Average critic and user scores**  \n",
    "- **Number of unique platforms and publishers**  \n",
    "\n",
    "The data was then visualized using **Plotly**, with a dual-axis chart:  \n",
    "- **A bar chart** representing the number of games released each year.  \n",
    "- **Line charts** tracking the evolution of average critic and user scores.  \n",
    "\n",
    "This analysis provides insights into industry trends, user satisfaction, and how game releases have evolved over the years.  \n"
   ]
  },
  {
   "cell_type": "code",
   "execution_count": null,
   "metadata": {},
   "outputs": [
    {
     "data": {
      "text/html": [
       "<div>\n",
       "<style scoped>\n",
       "    .dataframe tbody tr th:only-of-type {\n",
       "        vertical-align: middle;\n",
       "    }\n",
       "\n",
       "    .dataframe tbody tr th {\n",
       "        vertical-align: top;\n",
       "    }\n",
       "\n",
       "    .dataframe thead th {\n",
       "        text-align: right;\n",
       "    }\n",
       "</style>\n",
       "<table border=\"1\" class=\"dataframe\">\n",
       "  <thead>\n",
       "    <tr style=\"text-align: right;\">\n",
       "      <th></th>\n",
       "      <th>Year</th>\n",
       "      <th>nbr_games_released</th>\n",
       "      <th>nbr_platforms</th>\n",
       "      <th>nbr_publisher</th>\n",
       "      <th>avg_critic_score</th>\n",
       "      <th>avg_user_score</th>\n",
       "    </tr>\n",
       "  </thead>\n",
       "  <tbody>\n",
       "    <tr>\n",
       "      <th>19</th>\n",
       "      <td>1996</td>\n",
       "      <td>291</td>\n",
       "      <td>8</td>\n",
       "      <td>82</td>\n",
       "      <td>6.76</td>\n",
       "      <td>8.50</td>\n",
       "    </tr>\n",
       "    <tr>\n",
       "      <th>20</th>\n",
       "      <td>1997</td>\n",
       "      <td>264</td>\n",
       "      <td>6</td>\n",
       "      <td>66</td>\n",
       "      <td>6.79</td>\n",
       "      <td>9.25</td>\n",
       "    </tr>\n",
       "    <tr>\n",
       "      <th>21</th>\n",
       "      <td>1998</td>\n",
       "      <td>342</td>\n",
       "      <td>8</td>\n",
       "      <td>86</td>\n",
       "      <td>7.15</td>\n",
       "      <td>8.80</td>\n",
       "    </tr>\n",
       "    <tr>\n",
       "      <th>22</th>\n",
       "      <td>1999</td>\n",
       "      <td>359</td>\n",
       "      <td>9</td>\n",
       "      <td>75</td>\n",
       "      <td>7.19</td>\n",
       "      <td>9.10</td>\n",
       "    </tr>\n",
       "    <tr>\n",
       "      <th>23</th>\n",
       "      <td>2000</td>\n",
       "      <td>412</td>\n",
       "      <td>8</td>\n",
       "      <td>73</td>\n",
       "      <td>7.06</td>\n",
       "      <td>8.45</td>\n",
       "    </tr>\n",
       "    <tr>\n",
       "      <th>24</th>\n",
       "      <td>2001</td>\n",
       "      <td>508</td>\n",
       "      <td>11</td>\n",
       "      <td>84</td>\n",
       "      <td>7.21</td>\n",
       "      <td>7.77</td>\n",
       "    </tr>\n",
       "    <tr>\n",
       "      <th>25</th>\n",
       "      <td>2002</td>\n",
       "      <td>821</td>\n",
       "      <td>11</td>\n",
       "      <td>92</td>\n",
       "      <td>7.02</td>\n",
       "      <td>8.48</td>\n",
       "    </tr>\n",
       "    <tr>\n",
       "      <th>26</th>\n",
       "      <td>2003</td>\n",
       "      <td>813</td>\n",
       "      <td>6</td>\n",
       "      <td>80</td>\n",
       "      <td>7.27</td>\n",
       "      <td>8.53</td>\n",
       "    </tr>\n",
       "    <tr>\n",
       "      <th>27</th>\n",
       "      <td>2004</td>\n",
       "      <td>785</td>\n",
       "      <td>8</td>\n",
       "      <td>83</td>\n",
       "      <td>7.14</td>\n",
       "      <td>7.91</td>\n",
       "    </tr>\n",
       "    <tr>\n",
       "      <th>28</th>\n",
       "      <td>2005</td>\n",
       "      <td>964</td>\n",
       "      <td>9</td>\n",
       "      <td>91</td>\n",
       "      <td>7.11</td>\n",
       "      <td>7.62</td>\n",
       "    </tr>\n",
       "    <tr>\n",
       "      <th>29</th>\n",
       "      <td>2006</td>\n",
       "      <td>1035</td>\n",
       "      <td>10</td>\n",
       "      <td>124</td>\n",
       "      <td>6.79</td>\n",
       "      <td>8.26</td>\n",
       "    </tr>\n",
       "    <tr>\n",
       "      <th>30</th>\n",
       "      <td>2007</td>\n",
       "      <td>1236</td>\n",
       "      <td>13</td>\n",
       "      <td>139</td>\n",
       "      <td>6.60</td>\n",
       "      <td>8.57</td>\n",
       "    </tr>\n",
       "    <tr>\n",
       "      <th>31</th>\n",
       "      <td>2008</td>\n",
       "      <td>1536</td>\n",
       "      <td>11</td>\n",
       "      <td>169</td>\n",
       "      <td>6.44</td>\n",
       "      <td>8.40</td>\n",
       "    </tr>\n",
       "    <tr>\n",
       "      <th>32</th>\n",
       "      <td>2009</td>\n",
       "      <td>1616</td>\n",
       "      <td>10</td>\n",
       "      <td>188</td>\n",
       "      <td>6.81</td>\n",
       "      <td>8.57</td>\n",
       "    </tr>\n",
       "    <tr>\n",
       "      <th>33</th>\n",
       "      <td>2010</td>\n",
       "      <td>1401</td>\n",
       "      <td>8</td>\n",
       "      <td>173</td>\n",
       "      <td>7.00</td>\n",
       "      <td>8.78</td>\n",
       "    </tr>\n",
       "    <tr>\n",
       "      <th>34</th>\n",
       "      <td>2011</td>\n",
       "      <td>1299</td>\n",
       "      <td>11</td>\n",
       "      <td>161</td>\n",
       "      <td>7.00</td>\n",
       "      <td>6.60</td>\n",
       "    </tr>\n",
       "    <tr>\n",
       "      <th>35</th>\n",
       "      <td>2012</td>\n",
       "      <td>755</td>\n",
       "      <td>11</td>\n",
       "      <td>145</td>\n",
       "      <td>7.37</td>\n",
       "      <td>7.07</td>\n",
       "    </tr>\n",
       "    <tr>\n",
       "      <th>36</th>\n",
       "      <td>2013</td>\n",
       "      <td>639</td>\n",
       "      <td>12</td>\n",
       "      <td>143</td>\n",
       "      <td>7.46</td>\n",
       "      <td>6.98</td>\n",
       "    </tr>\n",
       "    <tr>\n",
       "      <th>37</th>\n",
       "      <td>2014</td>\n",
       "      <td>755</td>\n",
       "      <td>11</td>\n",
       "      <td>161</td>\n",
       "      <td>7.54</td>\n",
       "      <td>7.01</td>\n",
       "    </tr>\n",
       "  </tbody>\n",
       "</table>\n",
       "</div>"
      ],
      "text/plain": [
       "    Year  nbr_games_released  nbr_platforms  nbr_publisher  avg_critic_score  \\\n",
       "19  1996                 291              8             82              6.76   \n",
       "20  1997                 264              6             66              6.79   \n",
       "21  1998                 342              8             86              7.15   \n",
       "22  1999                 359              9             75              7.19   \n",
       "23  2000                 412              8             73              7.06   \n",
       "24  2001                 508             11             84              7.21   \n",
       "25  2002                 821             11             92              7.02   \n",
       "26  2003                 813              6             80              7.27   \n",
       "27  2004                 785              8             83              7.14   \n",
       "28  2005                 964              9             91              7.11   \n",
       "29  2006                1035             10            124              6.79   \n",
       "30  2007                1236             13            139              6.60   \n",
       "31  2008                1536             11            169              6.44   \n",
       "32  2009                1616             10            188              6.81   \n",
       "33  2010                1401              8            173              7.00   \n",
       "34  2011                1299             11            161              7.00   \n",
       "35  2012                 755             11            145              7.37   \n",
       "36  2013                 639             12            143              7.46   \n",
       "37  2014                 755             11            161              7.54   \n",
       "\n",
       "    avg_user_score  \n",
       "19            8.50  \n",
       "20            9.25  \n",
       "21            8.80  \n",
       "22            9.10  \n",
       "23            8.45  \n",
       "24            7.77  \n",
       "25            8.48  \n",
       "26            8.53  \n",
       "27            7.91  \n",
       "28            7.62  \n",
       "29            8.26  \n",
       "30            8.57  \n",
       "31            8.40  \n",
       "32            8.57  \n",
       "33            8.78  \n",
       "34            6.60  \n",
       "35            7.07  \n",
       "36            6.98  \n",
       "37            7.01  "
      ]
     },
     "metadata": {},
     "output_type": "display_data"
    }
   ],
   "source": [
    "data_sql_vg = pd.read_sql(\"\"\"\n",
    "    SELECT Year,\n",
    "           COUNT(*) AS nbr_games_released,\n",
    "            COUNT(DISTINCT Platform) AS nbr_platforms,\n",
    "            COUNT(DISTINCT Publisher) AS nbr_publisher,\n",
    "            ROUND(AVG(Critic_Score), 2) AS avg_critic_score,\n",
    "            ROUND(AVG(User_Score), 2) AS avg_user_score        \n",
    "    FROM game_sales_data\n",
    "    GROUP BY Year\n",
    "    ;\n",
    "\"\"\", conn)\n",
    "\n",
    "display(data_sql_vg.loc[(data_sql_vg.Year > 1995) & (data_sql_vg.Year < 2015)])"
   ]
  },
  {
   "cell_type": "code",
   "execution_count": 30,
   "metadata": {},
   "outputs": [
    {
     "data": {
      "application/vnd.plotly.v1+json": {
       "config": {
        "plotlyServerURL": "https://plot.ly"
       },
       "data": [
        {
         "marker": {
          "color": "rgba(121, 85, 72, 0.3)"
         },
         "name": "Number of Games Released",
         "opacity": 0.5,
         "type": "bar",
         "x": {
          "bdata": "uQe6B7sHvAe9B74HvwfAB8EHwgfDB8QHxQfGB8cHyAfJB8oHywfMB80HzgfPB9AH0QfSB9MH1AfVB9YH1wfYB9kH2gfbB9wH3QfeB98H4AfhB+IH4wfkBw==",
          "dtype": "i2"
         },
         "y": {
          "bdata": "AwAJAAEABgAHAC8AJgAMAA8AEgAQABEAFAAVACIAKAA9AGgAwQAjAQgBVgFnAZwB/AE1Ay0DEQPEAwsE1AQABlAGeQUTBfMCfwLzAvcCDAMVA78CPwANAA==",
          "dtype": "i2"
         },
         "yaxis": "y2"
        },
        {
         "line": {
          "color": "#D8B6A4",
          "width": 3
         },
         "marker": {
          "color": "#D8B6A4",
          "size": 8
         },
         "mode": "lines+markers",
         "name": "Average Critic Score",
         "type": "scatter",
         "x": {
          "bdata": "uQe6B7sHvAe9B74HvwfAB8EHwgfDB8QHxQfGB8cHyAfJB8oHywfMB80HzgfPB9AH0QfSB9MH1AfVB9YH1wfYB9kH2gfbB9wH3QfeB98H4AfhB+IH4wfkBw==",
          "dtype": "i2"
         },
         "y": {
          "bdata": "AAAAAAAA+H8AAAAAAAD4fwAAAAAAAPh/AAAAAAAA+H9mZmZmZmYeQAAAAAAAACJAAAAAAAAA+H8AAAAAAAAjQFK4HoXrUR5AUrgehetRF0CF61G4HoUbQAAAAAAAABxApHA9CtejHkDD9Shcj0IhQHsUrkfh+iBAw/UoXI9CIkCPwvUoXA8gQHE9CtejcCFAKVyPwvUoGkAK16NwPQobQClcj8L1KBtAmpmZmZmZHEDD9Shcj8IcQD0K16NwPRxA16NwPQrXHEAUrkfhehQcQBSuR+F6FB1Aj8L1KFyPHEBxPQrXo3AcQClcj8L1KBtAZmZmZmZmGkDD9Shcj8IZQD0K16NwPRtAAAAAAAAAHEAAAAAAAAAcQHsUrkfheh1A16NwPQrXHUApXI/C9SgeQKRwPQrXox1AhetRuB6FHUB7FK5H4XodQFyPwvUoXB1AhetRuB6FH0CF61G4HoUgQA==",
          "dtype": "f8"
         }
        },
        {
         "line": {
          "color": "#795548",
          "width": 3
         },
         "marker": {
          "color": "#795548",
          "size": 8
         },
         "mode": "lines+markers",
         "name": "Average User Score",
         "type": "scatter",
         "x": {
          "bdata": "uQe6B7sHvAe9B74HvwfAB8EHwgfDB8QHxQfGB8cHyAfJB8oHywfMB80HzgfPB9AH0QfSB9MH1AfVB9YH1wfYB9kH2gfbB9wH3QfeB98H4AfhB+IH4wfkBw==",
          "dtype": "i2"
         },
         "y": {
          "bdata": "AAAAAAAA+H8AAAAAAAD4fwAAAAAAAPh/AAAAAAAA+H8zMzMzMzMfQJqZmZmZmR1AAAAAAAAA+H+amZmZmZkdQAAAAAAAgCBAMzMzMzMzIECamZmZmZkhQDMzMzMzMyBAzczMzMzMFUCamZmZmZkiQJqZmZmZmSFAAAAAAACAIEAAAAAAAAAjQJqZmZmZmSFAAAAAAAAAIEAAAAAAAAAhQAAAAAAAgCJAmpmZmZmZIUAzMzMzMzMiQGZmZmZm5iBAFK5H4XoUH0D2KFyPwvUgQI/C9ShcDyFApHA9CtejH0B7FK5H4XoeQIXrUbgehSBApHA9CtcjIUDNzMzMzMwgQKRwPQrXIyFAj8L1KFyPIUBmZmZmZmYaQEjhehSuRxxA7FG4HoXrG0AK16NwPQocQI/C9ShcjxtArkfhehSuG0BI4XoUrkcbQFK4HoXrURpAzczMzMzMGUAAAAAAAAAeQA==",
          "dtype": "f8"
         }
        }
       ],
       "layout": {
        "font": {
         "color": "#4A4A4A",
         "family": "Arial, sans-serif",
         "size": 14
        },
        "hovermode": "x",
        "legend": {
         "orientation": "h",
         "title": {
          "text": "Score Type"
         },
         "x": 0.5,
         "xanchor": "center",
         "y": -0.2
        },
        "margin": {
         "b": 40,
         "l": 40,
         "r": 40,
         "t": 60
        },
        "paper_bgcolor": "#EFE7E1",
        "plot_bgcolor": "#EFE7E1",
        "template": {
         "data": {
          "bar": [
           {
            "error_x": {
             "color": "#2a3f5f"
            },
            "error_y": {
             "color": "#2a3f5f"
            },
            "marker": {
             "line": {
              "color": "white",
              "width": 0.5
             },
             "pattern": {
              "fillmode": "overlay",
              "size": 10,
              "solidity": 0.2
             }
            },
            "type": "bar"
           }
          ],
          "barpolar": [
           {
            "marker": {
             "line": {
              "color": "white",
              "width": 0.5
             },
             "pattern": {
              "fillmode": "overlay",
              "size": 10,
              "solidity": 0.2
             }
            },
            "type": "barpolar"
           }
          ],
          "carpet": [
           {
            "aaxis": {
             "endlinecolor": "#2a3f5f",
             "gridcolor": "#C8D4E3",
             "linecolor": "#C8D4E3",
             "minorgridcolor": "#C8D4E3",
             "startlinecolor": "#2a3f5f"
            },
            "baxis": {
             "endlinecolor": "#2a3f5f",
             "gridcolor": "#C8D4E3",
             "linecolor": "#C8D4E3",
             "minorgridcolor": "#C8D4E3",
             "startlinecolor": "#2a3f5f"
            },
            "type": "carpet"
           }
          ],
          "choropleth": [
           {
            "colorbar": {
             "outlinewidth": 0,
             "ticks": ""
            },
            "type": "choropleth"
           }
          ],
          "contour": [
           {
            "colorbar": {
             "outlinewidth": 0,
             "ticks": ""
            },
            "colorscale": [
             [
              0,
              "#0d0887"
             ],
             [
              0.1111111111111111,
              "#46039f"
             ],
             [
              0.2222222222222222,
              "#7201a8"
             ],
             [
              0.3333333333333333,
              "#9c179e"
             ],
             [
              0.4444444444444444,
              "#bd3786"
             ],
             [
              0.5555555555555556,
              "#d8576b"
             ],
             [
              0.6666666666666666,
              "#ed7953"
             ],
             [
              0.7777777777777778,
              "#fb9f3a"
             ],
             [
              0.8888888888888888,
              "#fdca26"
             ],
             [
              1,
              "#f0f921"
             ]
            ],
            "type": "contour"
           }
          ],
          "contourcarpet": [
           {
            "colorbar": {
             "outlinewidth": 0,
             "ticks": ""
            },
            "type": "contourcarpet"
           }
          ],
          "heatmap": [
           {
            "colorbar": {
             "outlinewidth": 0,
             "ticks": ""
            },
            "colorscale": [
             [
              0,
              "#0d0887"
             ],
             [
              0.1111111111111111,
              "#46039f"
             ],
             [
              0.2222222222222222,
              "#7201a8"
             ],
             [
              0.3333333333333333,
              "#9c179e"
             ],
             [
              0.4444444444444444,
              "#bd3786"
             ],
             [
              0.5555555555555556,
              "#d8576b"
             ],
             [
              0.6666666666666666,
              "#ed7953"
             ],
             [
              0.7777777777777778,
              "#fb9f3a"
             ],
             [
              0.8888888888888888,
              "#fdca26"
             ],
             [
              1,
              "#f0f921"
             ]
            ],
            "type": "heatmap"
           }
          ],
          "histogram": [
           {
            "marker": {
             "pattern": {
              "fillmode": "overlay",
              "size": 10,
              "solidity": 0.2
             }
            },
            "type": "histogram"
           }
          ],
          "histogram2d": [
           {
            "colorbar": {
             "outlinewidth": 0,
             "ticks": ""
            },
            "colorscale": [
             [
              0,
              "#0d0887"
             ],
             [
              0.1111111111111111,
              "#46039f"
             ],
             [
              0.2222222222222222,
              "#7201a8"
             ],
             [
              0.3333333333333333,
              "#9c179e"
             ],
             [
              0.4444444444444444,
              "#bd3786"
             ],
             [
              0.5555555555555556,
              "#d8576b"
             ],
             [
              0.6666666666666666,
              "#ed7953"
             ],
             [
              0.7777777777777778,
              "#fb9f3a"
             ],
             [
              0.8888888888888888,
              "#fdca26"
             ],
             [
              1,
              "#f0f921"
             ]
            ],
            "type": "histogram2d"
           }
          ],
          "histogram2dcontour": [
           {
            "colorbar": {
             "outlinewidth": 0,
             "ticks": ""
            },
            "colorscale": [
             [
              0,
              "#0d0887"
             ],
             [
              0.1111111111111111,
              "#46039f"
             ],
             [
              0.2222222222222222,
              "#7201a8"
             ],
             [
              0.3333333333333333,
              "#9c179e"
             ],
             [
              0.4444444444444444,
              "#bd3786"
             ],
             [
              0.5555555555555556,
              "#d8576b"
             ],
             [
              0.6666666666666666,
              "#ed7953"
             ],
             [
              0.7777777777777778,
              "#fb9f3a"
             ],
             [
              0.8888888888888888,
              "#fdca26"
             ],
             [
              1,
              "#f0f921"
             ]
            ],
            "type": "histogram2dcontour"
           }
          ],
          "mesh3d": [
           {
            "colorbar": {
             "outlinewidth": 0,
             "ticks": ""
            },
            "type": "mesh3d"
           }
          ],
          "parcoords": [
           {
            "line": {
             "colorbar": {
              "outlinewidth": 0,
              "ticks": ""
             }
            },
            "type": "parcoords"
           }
          ],
          "pie": [
           {
            "automargin": true,
            "type": "pie"
           }
          ],
          "scatter": [
           {
            "fillpattern": {
             "fillmode": "overlay",
             "size": 10,
             "solidity": 0.2
            },
            "type": "scatter"
           }
          ],
          "scatter3d": [
           {
            "line": {
             "colorbar": {
              "outlinewidth": 0,
              "ticks": ""
             }
            },
            "marker": {
             "colorbar": {
              "outlinewidth": 0,
              "ticks": ""
             }
            },
            "type": "scatter3d"
           }
          ],
          "scattercarpet": [
           {
            "marker": {
             "colorbar": {
              "outlinewidth": 0,
              "ticks": ""
             }
            },
            "type": "scattercarpet"
           }
          ],
          "scattergeo": [
           {
            "marker": {
             "colorbar": {
              "outlinewidth": 0,
              "ticks": ""
             }
            },
            "type": "scattergeo"
           }
          ],
          "scattergl": [
           {
            "marker": {
             "colorbar": {
              "outlinewidth": 0,
              "ticks": ""
             }
            },
            "type": "scattergl"
           }
          ],
          "scattermap": [
           {
            "marker": {
             "colorbar": {
              "outlinewidth": 0,
              "ticks": ""
             }
            },
            "type": "scattermap"
           }
          ],
          "scattermapbox": [
           {
            "marker": {
             "colorbar": {
              "outlinewidth": 0,
              "ticks": ""
             }
            },
            "type": "scattermapbox"
           }
          ],
          "scatterpolar": [
           {
            "marker": {
             "colorbar": {
              "outlinewidth": 0,
              "ticks": ""
             }
            },
            "type": "scatterpolar"
           }
          ],
          "scatterpolargl": [
           {
            "marker": {
             "colorbar": {
              "outlinewidth": 0,
              "ticks": ""
             }
            },
            "type": "scatterpolargl"
           }
          ],
          "scatterternary": [
           {
            "marker": {
             "colorbar": {
              "outlinewidth": 0,
              "ticks": ""
             }
            },
            "type": "scatterternary"
           }
          ],
          "surface": [
           {
            "colorbar": {
             "outlinewidth": 0,
             "ticks": ""
            },
            "colorscale": [
             [
              0,
              "#0d0887"
             ],
             [
              0.1111111111111111,
              "#46039f"
             ],
             [
              0.2222222222222222,
              "#7201a8"
             ],
             [
              0.3333333333333333,
              "#9c179e"
             ],
             [
              0.4444444444444444,
              "#bd3786"
             ],
             [
              0.5555555555555556,
              "#d8576b"
             ],
             [
              0.6666666666666666,
              "#ed7953"
             ],
             [
              0.7777777777777778,
              "#fb9f3a"
             ],
             [
              0.8888888888888888,
              "#fdca26"
             ],
             [
              1,
              "#f0f921"
             ]
            ],
            "type": "surface"
           }
          ],
          "table": [
           {
            "cells": {
             "fill": {
              "color": "#EBF0F8"
             },
             "line": {
              "color": "white"
             }
            },
            "header": {
             "fill": {
              "color": "#C8D4E3"
             },
             "line": {
              "color": "white"
             }
            },
            "type": "table"
           }
          ]
         },
         "layout": {
          "annotationdefaults": {
           "arrowcolor": "#2a3f5f",
           "arrowhead": 0,
           "arrowwidth": 1
          },
          "autotypenumbers": "strict",
          "coloraxis": {
           "colorbar": {
            "outlinewidth": 0,
            "ticks": ""
           }
          },
          "colorscale": {
           "diverging": [
            [
             0,
             "#8e0152"
            ],
            [
             0.1,
             "#c51b7d"
            ],
            [
             0.2,
             "#de77ae"
            ],
            [
             0.3,
             "#f1b6da"
            ],
            [
             0.4,
             "#fde0ef"
            ],
            [
             0.5,
             "#f7f7f7"
            ],
            [
             0.6,
             "#e6f5d0"
            ],
            [
             0.7,
             "#b8e186"
            ],
            [
             0.8,
             "#7fbc41"
            ],
            [
             0.9,
             "#4d9221"
            ],
            [
             1,
             "#276419"
            ]
           ],
           "sequential": [
            [
             0,
             "#0d0887"
            ],
            [
             0.1111111111111111,
             "#46039f"
            ],
            [
             0.2222222222222222,
             "#7201a8"
            ],
            [
             0.3333333333333333,
             "#9c179e"
            ],
            [
             0.4444444444444444,
             "#bd3786"
            ],
            [
             0.5555555555555556,
             "#d8576b"
            ],
            [
             0.6666666666666666,
             "#ed7953"
            ],
            [
             0.7777777777777778,
             "#fb9f3a"
            ],
            [
             0.8888888888888888,
             "#fdca26"
            ],
            [
             1,
             "#f0f921"
            ]
           ],
           "sequentialminus": [
            [
             0,
             "#0d0887"
            ],
            [
             0.1111111111111111,
             "#46039f"
            ],
            [
             0.2222222222222222,
             "#7201a8"
            ],
            [
             0.3333333333333333,
             "#9c179e"
            ],
            [
             0.4444444444444444,
             "#bd3786"
            ],
            [
             0.5555555555555556,
             "#d8576b"
            ],
            [
             0.6666666666666666,
             "#ed7953"
            ],
            [
             0.7777777777777778,
             "#fb9f3a"
            ],
            [
             0.8888888888888888,
             "#fdca26"
            ],
            [
             1,
             "#f0f921"
            ]
           ]
          },
          "colorway": [
           "#636efa",
           "#EF553B",
           "#00cc96",
           "#ab63fa",
           "#FFA15A",
           "#19d3f3",
           "#FF6692",
           "#B6E880",
           "#FF97FF",
           "#FECB52"
          ],
          "font": {
           "color": "#2a3f5f"
          },
          "geo": {
           "bgcolor": "white",
           "lakecolor": "white",
           "landcolor": "white",
           "showlakes": true,
           "showland": true,
           "subunitcolor": "#C8D4E3"
          },
          "hoverlabel": {
           "align": "left"
          },
          "hovermode": "closest",
          "mapbox": {
           "style": "light"
          },
          "paper_bgcolor": "white",
          "plot_bgcolor": "white",
          "polar": {
           "angularaxis": {
            "gridcolor": "#EBF0F8",
            "linecolor": "#EBF0F8",
            "ticks": ""
           },
           "bgcolor": "white",
           "radialaxis": {
            "gridcolor": "#EBF0F8",
            "linecolor": "#EBF0F8",
            "ticks": ""
           }
          },
          "scene": {
           "xaxis": {
            "backgroundcolor": "white",
            "gridcolor": "#DFE8F3",
            "gridwidth": 2,
            "linecolor": "#EBF0F8",
            "showbackground": true,
            "ticks": "",
            "zerolinecolor": "#EBF0F8"
           },
           "yaxis": {
            "backgroundcolor": "white",
            "gridcolor": "#DFE8F3",
            "gridwidth": 2,
            "linecolor": "#EBF0F8",
            "showbackground": true,
            "ticks": "",
            "zerolinecolor": "#EBF0F8"
           },
           "zaxis": {
            "backgroundcolor": "white",
            "gridcolor": "#DFE8F3",
            "gridwidth": 2,
            "linecolor": "#EBF0F8",
            "showbackground": true,
            "ticks": "",
            "zerolinecolor": "#EBF0F8"
           }
          },
          "shapedefaults": {
           "line": {
            "color": "#2a3f5f"
           }
          },
          "ternary": {
           "aaxis": {
            "gridcolor": "#DFE8F3",
            "linecolor": "#A2B1C6",
            "ticks": ""
           },
           "baxis": {
            "gridcolor": "#DFE8F3",
            "linecolor": "#A2B1C6",
            "ticks": ""
           },
           "bgcolor": "white",
           "caxis": {
            "gridcolor": "#DFE8F3",
            "linecolor": "#A2B1C6",
            "ticks": ""
           }
          },
          "title": {
           "x": 0.05
          },
          "xaxis": {
           "automargin": true,
           "gridcolor": "#EBF0F8",
           "linecolor": "#EBF0F8",
           "ticks": "",
           "title": {
            "standoff": 15
           },
           "zerolinecolor": "#EBF0F8",
           "zerolinewidth": 2
          },
          "yaxis": {
           "automargin": true,
           "gridcolor": "#EBF0F8",
           "linecolor": "#EBF0F8",
           "ticks": "",
           "title": {
            "standoff": 15
           },
           "zerolinecolor": "#EBF0F8",
           "zerolinewidth": 2
          }
         }
        },
        "title": {
         "text": "🎮 Evolution of Critic & User Scores Over Time"
        },
        "xaxis": {
         "title": {
          "text": "Year"
         }
        },
        "yaxis": {
         "showgrid": true,
         "title": {
          "text": "Score (0-10)"
         }
        },
        "yaxis2": {
         "overlaying": "y",
         "showgrid": false,
         "side": "right",
         "title": {
          "text": "Number of Games Released"
         }
        }
       }
      }
     },
     "metadata": {},
     "output_type": "display_data"
    }
   ],
   "source": [
    "fig = go.Figure()\n",
    "\n",
    "# Histogramme pour le nombre de jeux sortis sur un axe séparé\n",
    "fig.add_trace(go.Bar(\n",
    "    x=data_sql_vg[\"Year\"],\n",
    "    y=data_sql_vg[\"nbr_games_released\"],\n",
    "    name=\"Number of Games Released\",\n",
    "    marker=dict(color=\"rgba(121, 85, 72, 0.3)\"), \n",
    "    opacity=0.5,\n",
    "    yaxis='y2'\n",
    "))\n",
    "\n",
    "# Courbe pour le score des critiques (couleur plus foncée)\n",
    "fig.add_trace(go.Scatter(\n",
    "    x=data_sql_vg[\"Year\"],\n",
    "    y=data_sql_vg[\"avg_critic_score\"],\n",
    "    mode=\"lines+markers\",\n",
    "    name=\"Average Critic Score\",\n",
    "    line=dict(color=\"#D8B6A4\", width=3),  \n",
    "    marker=dict(size=8, color=\"#D8B6A4\")  \n",
    "))\n",
    "\n",
    "# Courbe pour le score des utilisateurs (couleur plus foncée)\n",
    "fig.add_trace(go.Scatter(\n",
    "    x=data_sql_vg[\"Year\"],\n",
    "    y=data_sql_vg[\"avg_user_score\"],\n",
    "    mode=\"lines+markers\",\n",
    "    name=\"Average User Score\",\n",
    "    line=dict(color=\"#795548\", width=3),  \n",
    "    marker=dict(size=8, color=\"#795548\") \n",
    "))\n",
    "\n",
    "# Mise en forme du graphique avec un axe séparé\n",
    "fig.update_layout(\n",
    "    title=\"🎮 Evolution of Critic & User Scores Over Time\",\n",
    "    xaxis_title=\"Year\",\n",
    "    yaxis=dict(\n",
    "        title=\"Score (0-10)\",\n",
    "        showgrid=True\n",
    "    ),\n",
    "    yaxis2=dict(\n",
    "        title=\"Number of Games Released\",\n",
    "        overlaying='y',\n",
    "        side='right',\n",
    "        showgrid=False\n",
    "    ),\n",
    "    template=\"plotly_white\",\n",
    "    font=dict(family=\"Arial, sans-serif\", size=14, color=\"#4A4A4A\"),\n",
    "    plot_bgcolor=\"#EFE7E1\",  \n",
    "    paper_bgcolor=\"#EFE7E1\",\n",
    "    hovermode=\"x\",\n",
    "    legend=dict(title=\"Score Type\", orientation=\"h\", x=0.5, xanchor=\"center\", y=-0.2),\n",
    "    margin=dict(l=40, r=40, t=60, b=40)\n",
    ")\n",
    "\n",
    "# Affichage du graphique\n",
    "fig.show()\n"
   ]
  },
  {
   "cell_type": "markdown",
   "metadata": {},
   "source": [
    "\n",
    "1️⃣ **Trends in Game Releases**  \n",
    "- The number of games released **steadily increased from the late 1990s**, reaching a **peak around 2008-2009** with over **1,500 games released** in a single year.  \n",
    "- After 2010, the number of games released **declined significantly**, stabilizing at lower levels in the 2010s.  \n",
    "- Possible reasons for this decline:\n",
    "  - A shift towards **higher-quality, longer development cycle games**.\n",
    "  - The rise of **live-service games** (fewer new releases, but ongoing content updates).  \n",
    "  - Industry consolidation, with **fewer publishers dominating the market**.  \n",
    "\n",
    "2️⃣ **Evolution of Critic and User Scores**  \n",
    "- **Before 2005**, the scores aren't very representative given the low number of games released.   \n",
    "- **2006-2010**:  \n",
    "  - **Critic scores declined**, possibly due to an oversaturation of games with **lower quality releases**.  \n",
    "  - **User scores remained relatively high (~8.0+).**  \n",
    "- **2011-2015**:  \n",
    "  - A sharp **drop in user scores** after 2011 (below 7.0).  \n",
    "  - Critic scores remained stable, suggesting a **growing disconnect between critics and players**.  \n",
    "  - This period coincides with **controversial industry practices** (e.g., microtransactions, pay-to-win mechanics, day-one DLCs).  \n",
    "- **2016-Present**:  \n",
    "  - A **slight recovery in user scores**, but critic scores remained consistent.  \n",
    "  - The number of game releases remained **much lower than in the early 2000s**, suggesting a shift towards **quality over quantity**.  \n",
    "\n",
    "3️⃣ **Key Observations**  \n",
    "- **The golden era of user satisfaction (1996-2005)** shows the highest average user scores.  \n",
    "- **Post-2010 decline** in both releases and user scores suggests a shift in the gaming industry.  \n",
    "- **Critics vs. users gap**: After 2010, critics’ scores remained stable while user scores dropped—possibly reflecting growing dissatisfaction among players.  \n",
    "- **2020s recovery?** The recent uptick in user scores could indicate a positive shift in the industry.  \n",
    "\n",
    "# Industry Trends: Most Popular Platforms, Games, and Publishers by Year  \n",
    "\n",
    "This SQL query examines **the evolution of the video game industry**, highlighting the platforms with the most releases, the best-selling games, and the leading publishers each year. It also provides an overview of **total game releases and sales**, offering insights into market dynamics over time.  \n",
    "\n",
    "To efficiently compute these rankings, the query uses **common table expressions (CTEs)** before consolidating the results into a final dataset. The output includes:  \n",
    "\n",
    "- **Year** – The release year, establishing a timeline for analysis.  \n",
    "- **Total Games Released (`total_games`)** – A measure of industry activity, indicating the volume of new titles launched annually.  \n",
    "- **Total Sales (`total_sales`)** – The total number of game units shipped that year, reflecting overall market performance.  \n",
    "- **Most Popular Platform (`most_popular_platform`)** – The system that hosted the highest number of releases.  \n",
    "- **Top Publishers (`Publisher1`, `Publisher2`)** – The companies generating the most sales in a given year.  \n",
    "- **Best-Selling Game (`most_popular_game`)** – The title with the highest total units shipped.  \n",
    "\n"
   ]
  },
  {
   "cell_type": "code",
   "execution_count": null,
   "metadata": {},
   "outputs": [
    {
     "data": {
      "text/html": [
       "<div>\n",
       "<style scoped>\n",
       "    .dataframe tbody tr th:only-of-type {\n",
       "        vertical-align: middle;\n",
       "    }\n",
       "\n",
       "    .dataframe tbody tr th {\n",
       "        vertical-align: top;\n",
       "    }\n",
       "\n",
       "    .dataframe thead th {\n",
       "        text-align: right;\n",
       "    }\n",
       "</style>\n",
       "<table border=\"1\" class=\"dataframe\">\n",
       "  <thead>\n",
       "    <tr style=\"text-align: right;\">\n",
       "      <th></th>\n",
       "      <th>Year</th>\n",
       "      <th>total_games</th>\n",
       "      <th>total_sales</th>\n",
       "      <th>most_popular_platform</th>\n",
       "      <th>Publisher1</th>\n",
       "      <th>Publisher2</th>\n",
       "      <th>most_popular_game</th>\n",
       "    </tr>\n",
       "  </thead>\n",
       "  <tbody>\n",
       "    <tr>\n",
       "      <th>0</th>\n",
       "      <td>1977</td>\n",
       "      <td>3</td>\n",
       "      <td>2.50</td>\n",
       "      <td>2600</td>\n",
       "      <td>Atari</td>\n",
       "      <td>None</td>\n",
       "      <td>Combat</td>\n",
       "    </tr>\n",
       "    <tr>\n",
       "      <th>1</th>\n",
       "      <td>1978</td>\n",
       "      <td>9</td>\n",
       "      <td>6.19</td>\n",
       "      <td>2600</td>\n",
       "      <td>Atari</td>\n",
       "      <td>Sears</td>\n",
       "      <td>Space Invaders</td>\n",
       "    </tr>\n",
       "    <tr>\n",
       "      <th>2</th>\n",
       "      <td>1979</td>\n",
       "      <td>1</td>\n",
       "      <td>0.31</td>\n",
       "      <td>2600</td>\n",
       "      <td>Atari</td>\n",
       "      <td>None</td>\n",
       "      <td>Slot Machine</td>\n",
       "    </tr>\n",
       "    <tr>\n",
       "      <th>3</th>\n",
       "      <td>1980</td>\n",
       "      <td>6</td>\n",
       "      <td>2.58</td>\n",
       "      <td>2600</td>\n",
       "      <td>Activision</td>\n",
       "      <td>Unknown</td>\n",
       "      <td>Boxing</td>\n",
       "    </tr>\n",
       "    <tr>\n",
       "      <th>4</th>\n",
       "      <td>1981</td>\n",
       "      <td>7</td>\n",
       "      <td>10.49</td>\n",
       "      <td>2600</td>\n",
       "      <td>Atari</td>\n",
       "      <td>Activision</td>\n",
       "      <td>Asteroids</td>\n",
       "    </tr>\n",
       "    <tr>\n",
       "      <th>5</th>\n",
       "      <td>1982</td>\n",
       "      <td>47</td>\n",
       "      <td>43.39</td>\n",
       "      <td>2600</td>\n",
       "      <td>Atari</td>\n",
       "      <td>Activision</td>\n",
       "      <td>Pac-Man</td>\n",
       "    </tr>\n",
       "    <tr>\n",
       "      <th>6</th>\n",
       "      <td>1983</td>\n",
       "      <td>38</td>\n",
       "      <td>24.82</td>\n",
       "      <td>2600</td>\n",
       "      <td>Atari</td>\n",
       "      <td>Activision</td>\n",
       "      <td>Mahjong</td>\n",
       "    </tr>\n",
       "    <tr>\n",
       "      <th>7</th>\n",
       "      <td>1984</td>\n",
       "      <td>12</td>\n",
       "      <td>7.82</td>\n",
       "      <td>2600</td>\n",
       "      <td>Atari</td>\n",
       "      <td>Nintendo</td>\n",
       "      <td>F1 Race</td>\n",
       "    </tr>\n",
       "    <tr>\n",
       "      <th>8</th>\n",
       "      <td>1985</td>\n",
       "      <td>15</td>\n",
       "      <td>93.72</td>\n",
       "      <td>NES</td>\n",
       "      <td>Nintendo</td>\n",
       "      <td>Activision</td>\n",
       "      <td>Super Mario Bros.</td>\n",
       "    </tr>\n",
       "    <tr>\n",
       "      <th>9</th>\n",
       "      <td>1986</td>\n",
       "      <td>18</td>\n",
       "      <td>21.40</td>\n",
       "      <td>NES</td>\n",
       "      <td>Nintendo</td>\n",
       "      <td>Capcom</td>\n",
       "      <td>Super Mario Bros. 2 (FDS)</td>\n",
       "    </tr>\n",
       "    <tr>\n",
       "      <th>10</th>\n",
       "      <td>1987</td>\n",
       "      <td>16</td>\n",
       "      <td>31.16</td>\n",
       "      <td>NES</td>\n",
       "      <td>Nintendo</td>\n",
       "      <td>Bandai</td>\n",
       "      <td>The Legend of Zelda</td>\n",
       "    </tr>\n",
       "    <tr>\n",
       "      <th>11</th>\n",
       "      <td>1988</td>\n",
       "      <td>17</td>\n",
       "      <td>27.69</td>\n",
       "      <td>NES</td>\n",
       "      <td>Nintendo</td>\n",
       "      <td>Tengen</td>\n",
       "      <td>Super Mario Bros. 2</td>\n",
       "    </tr>\n",
       "    <tr>\n",
       "      <th>12</th>\n",
       "      <td>1989</td>\n",
       "      <td>20</td>\n",
       "      <td>76.87</td>\n",
       "      <td>NES</td>\n",
       "      <td>Nintendo</td>\n",
       "      <td>Ultra Games</td>\n",
       "      <td>Tetris</td>\n",
       "    </tr>\n",
       "    <tr>\n",
       "      <th>13</th>\n",
       "      <td>1990</td>\n",
       "      <td>21</td>\n",
       "      <td>52.40</td>\n",
       "      <td>NES</td>\n",
       "      <td>Nintendo</td>\n",
       "      <td>Capcom</td>\n",
       "      <td>Super Mario Bros. 3</td>\n",
       "    </tr>\n",
       "    <tr>\n",
       "      <th>14</th>\n",
       "      <td>1991</td>\n",
       "      <td>34</td>\n",
       "      <td>60.64</td>\n",
       "      <td>SNES</td>\n",
       "      <td>Nintendo</td>\n",
       "      <td>Sega</td>\n",
       "      <td>Super Mario World</td>\n",
       "    </tr>\n",
       "    <tr>\n",
       "      <th>15</th>\n",
       "      <td>1992</td>\n",
       "      <td>40</td>\n",
       "      <td>74.95</td>\n",
       "      <td>SNES</td>\n",
       "      <td>Nintendo</td>\n",
       "      <td>Capcom</td>\n",
       "      <td>Super Mario Land 2: 6 Golden Coins</td>\n",
       "    </tr>\n",
       "    <tr>\n",
       "      <th>16</th>\n",
       "      <td>1993</td>\n",
       "      <td>61</td>\n",
       "      <td>64.19</td>\n",
       "      <td>SNES</td>\n",
       "      <td>Nintendo</td>\n",
       "      <td>Capcom</td>\n",
       "      <td>Super Mario All-Stars</td>\n",
       "    </tr>\n",
       "    <tr>\n",
       "      <th>17</th>\n",
       "      <td>1994</td>\n",
       "      <td>104</td>\n",
       "      <td>62.97</td>\n",
       "      <td>SNES</td>\n",
       "      <td>Nintendo</td>\n",
       "      <td>Acclaim Entertainment</td>\n",
       "      <td>Donkey Kong Country</td>\n",
       "    </tr>\n",
       "    <tr>\n",
       "      <th>18</th>\n",
       "      <td>1995</td>\n",
       "      <td>193</td>\n",
       "      <td>95.48</td>\n",
       "      <td>PS</td>\n",
       "      <td>Nintendo</td>\n",
       "      <td>Sony Computer Entertainment</td>\n",
       "      <td>Myst</td>\n",
       "    </tr>\n",
       "    <tr>\n",
       "      <th>19</th>\n",
       "      <td>1996</td>\n",
       "      <td>291</td>\n",
       "      <td>154.78</td>\n",
       "      <td>PS</td>\n",
       "      <td>Nintendo</td>\n",
       "      <td>Sony Computer Entertainment</td>\n",
       "      <td>Super Mario 64</td>\n",
       "    </tr>\n",
       "    <tr>\n",
       "      <th>20</th>\n",
       "      <td>1997</td>\n",
       "      <td>264</td>\n",
       "      <td>178.68</td>\n",
       "      <td>PS</td>\n",
       "      <td>Sony Computer Entertainment</td>\n",
       "      <td>Nintendo</td>\n",
       "      <td>Final Fantasy VII</td>\n",
       "    </tr>\n",
       "    <tr>\n",
       "      <th>21</th>\n",
       "      <td>1998</td>\n",
       "      <td>342</td>\n",
       "      <td>283.42</td>\n",
       "      <td>PS</td>\n",
       "      <td>Nintendo</td>\n",
       "      <td>Sony Computer Entertainment</td>\n",
       "      <td>Pokemon Red / Green / Blue Version</td>\n",
       "    </tr>\n",
       "    <tr>\n",
       "      <th>22</th>\n",
       "      <td>1999</td>\n",
       "      <td>359</td>\n",
       "      <td>268.49</td>\n",
       "      <td>PS</td>\n",
       "      <td>Nintendo</td>\n",
       "      <td>Sony Computer Entertainment</td>\n",
       "      <td>Pokemon Yellow: Special Pikachu Edition</td>\n",
       "    </tr>\n",
       "    <tr>\n",
       "      <th>23</th>\n",
       "      <td>2000</td>\n",
       "      <td>412</td>\n",
       "      <td>259.61</td>\n",
       "      <td>PS</td>\n",
       "      <td>Nintendo</td>\n",
       "      <td>Sony Computer Entertainment</td>\n",
       "      <td>Pokemon Gold / Silver Version</td>\n",
       "    </tr>\n",
       "    <tr>\n",
       "      <th>24</th>\n",
       "      <td>2001</td>\n",
       "      <td>508</td>\n",
       "      <td>346.26</td>\n",
       "      <td>PS2</td>\n",
       "      <td>Nintendo</td>\n",
       "      <td>Sony Computer Entertainment</td>\n",
       "      <td>Gran Turismo 3: A-Spec</td>\n",
       "    </tr>\n",
       "    <tr>\n",
       "      <th>25</th>\n",
       "      <td>2002</td>\n",
       "      <td>821</td>\n",
       "      <td>389.25</td>\n",
       "      <td>PS2</td>\n",
       "      <td>Electronic Arts</td>\n",
       "      <td>Nintendo</td>\n",
       "      <td>Grand Theft Auto: Vice City</td>\n",
       "    </tr>\n",
       "    <tr>\n",
       "      <th>26</th>\n",
       "      <td>2003</td>\n",
       "      <td>813</td>\n",
       "      <td>400.79</td>\n",
       "      <td>PS2</td>\n",
       "      <td>Nintendo</td>\n",
       "      <td>Electronic Arts</td>\n",
       "      <td>Pokemon Ruby / Sapphire Version</td>\n",
       "    </tr>\n",
       "    <tr>\n",
       "      <th>27</th>\n",
       "      <td>2004</td>\n",
       "      <td>785</td>\n",
       "      <td>452.77</td>\n",
       "      <td>PS2</td>\n",
       "      <td>Nintendo</td>\n",
       "      <td>Electronic Arts</td>\n",
       "      <td>Grand Theft Auto: San Andreas</td>\n",
       "    </tr>\n",
       "    <tr>\n",
       "      <th>28</th>\n",
       "      <td>2005</td>\n",
       "      <td>964</td>\n",
       "      <td>456.29</td>\n",
       "      <td>PS2</td>\n",
       "      <td>Nintendo</td>\n",
       "      <td>Sony Computer Entertainment</td>\n",
       "      <td>Nintendogs</td>\n",
       "    </tr>\n",
       "    <tr>\n",
       "      <th>29</th>\n",
       "      <td>2006</td>\n",
       "      <td>1035</td>\n",
       "      <td>520.71</td>\n",
       "      <td>PS2</td>\n",
       "      <td>Nintendo</td>\n",
       "      <td>EA Sports</td>\n",
       "      <td>Wii Sports</td>\n",
       "    </tr>\n",
       "    <tr>\n",
       "      <th>30</th>\n",
       "      <td>2007</td>\n",
       "      <td>1236</td>\n",
       "      <td>634.62</td>\n",
       "      <td>DS</td>\n",
       "      <td>Nintendo</td>\n",
       "      <td>Electronic Arts</td>\n",
       "      <td>Wii Play</td>\n",
       "    </tr>\n",
       "    <tr>\n",
       "      <th>31</th>\n",
       "      <td>2008</td>\n",
       "      <td>1536</td>\n",
       "      <td>734.62</td>\n",
       "      <td>DS</td>\n",
       "      <td>Nintendo</td>\n",
       "      <td>Activision</td>\n",
       "      <td>Mario Kart Wii</td>\n",
       "    </tr>\n",
       "    <tr>\n",
       "      <th>32</th>\n",
       "      <td>2009</td>\n",
       "      <td>1616</td>\n",
       "      <td>694.39</td>\n",
       "      <td>DS</td>\n",
       "      <td>Nintendo</td>\n",
       "      <td>Activision</td>\n",
       "      <td>Wii Sports Resort</td>\n",
       "    </tr>\n",
       "    <tr>\n",
       "      <th>33</th>\n",
       "      <td>2010</td>\n",
       "      <td>1401</td>\n",
       "      <td>676.41</td>\n",
       "      <td>DS</td>\n",
       "      <td>Nintendo</td>\n",
       "      <td>Activision</td>\n",
       "      <td>Minecraft</td>\n",
       "    </tr>\n",
       "    <tr>\n",
       "      <th>34</th>\n",
       "      <td>2011</td>\n",
       "      <td>1299</td>\n",
       "      <td>633.36</td>\n",
       "      <td>PS3</td>\n",
       "      <td>Nintendo</td>\n",
       "      <td>Activision</td>\n",
       "      <td>Call of Duty: Modern Warfare 3</td>\n",
       "    </tr>\n",
       "    <tr>\n",
       "      <th>35</th>\n",
       "      <td>2012</td>\n",
       "      <td>755</td>\n",
       "      <td>455.69</td>\n",
       "      <td>PS3</td>\n",
       "      <td>Nintendo</td>\n",
       "      <td>Activision</td>\n",
       "      <td>Counter-Strike: Global Offensive</td>\n",
       "    </tr>\n",
       "    <tr>\n",
       "      <th>36</th>\n",
       "      <td>2013</td>\n",
       "      <td>639</td>\n",
       "      <td>470.88</td>\n",
       "      <td>PS3</td>\n",
       "      <td>Nintendo</td>\n",
       "      <td>Activision</td>\n",
       "      <td>Grand Theft Auto V</td>\n",
       "    </tr>\n",
       "    <tr>\n",
       "      <th>37</th>\n",
       "      <td>2014</td>\n",
       "      <td>755</td>\n",
       "      <td>454.16</td>\n",
       "      <td>PC</td>\n",
       "      <td>Nintendo</td>\n",
       "      <td>Activision</td>\n",
       "      <td>Grand Theft Auto V</td>\n",
       "    </tr>\n",
       "    <tr>\n",
       "      <th>38</th>\n",
       "      <td>2015</td>\n",
       "      <td>759</td>\n",
       "      <td>396.06</td>\n",
       "      <td>PC</td>\n",
       "      <td>Warner Bros. Interactive Entertainment</td>\n",
       "      <td>Activision</td>\n",
       "      <td>The Witcher 3: Wild Hunt</td>\n",
       "    </tr>\n",
       "    <tr>\n",
       "      <th>39</th>\n",
       "      <td>2016</td>\n",
       "      <td>780</td>\n",
       "      <td>368.75</td>\n",
       "      <td>PC</td>\n",
       "      <td>Nintendo</td>\n",
       "      <td>Electronic Arts</td>\n",
       "      <td>FIFA 17</td>\n",
       "    </tr>\n",
       "    <tr>\n",
       "      <th>40</th>\n",
       "      <td>2017</td>\n",
       "      <td>789</td>\n",
       "      <td>393.43</td>\n",
       "      <td>PS4</td>\n",
       "      <td>Nintendo</td>\n",
       "      <td>PUBG Corporation</td>\n",
       "      <td>PLAYERUNKNOWN'S BATTLEGROUNDS</td>\n",
       "    </tr>\n",
       "    <tr>\n",
       "      <th>41</th>\n",
       "      <td>2018</td>\n",
       "      <td>703</td>\n",
       "      <td>275.66</td>\n",
       "      <td>PS4</td>\n",
       "      <td>Nintendo</td>\n",
       "      <td>Sony Interactive Entertainment</td>\n",
       "      <td>Red Dead Redemption 2</td>\n",
       "    </tr>\n",
       "    <tr>\n",
       "      <th>42</th>\n",
       "      <td>2019</td>\n",
       "      <td>63</td>\n",
       "      <td>117.12</td>\n",
       "      <td>PS4</td>\n",
       "      <td>Nintendo</td>\n",
       "      <td>Activision</td>\n",
       "      <td>Call of Duty: Modern Warfare</td>\n",
       "    </tr>\n",
       "    <tr>\n",
       "      <th>43</th>\n",
       "      <td>2020</td>\n",
       "      <td>13</td>\n",
       "      <td>26.25</td>\n",
       "      <td>PS4</td>\n",
       "      <td>Nintendo</td>\n",
       "      <td>Sony Interactive Entertainment</td>\n",
       "      <td>Animal Crossing: New Horizons</td>\n",
       "    </tr>\n",
       "  </tbody>\n",
       "</table>\n",
       "</div>"
      ],
      "text/plain": [
       "    Year  total_games  total_sales most_popular_platform  \\\n",
       "0   1977            3         2.50                  2600   \n",
       "1   1978            9         6.19                  2600   \n",
       "2   1979            1         0.31                  2600   \n",
       "3   1980            6         2.58                  2600   \n",
       "4   1981            7        10.49                  2600   \n",
       "5   1982           47        43.39                  2600   \n",
       "6   1983           38        24.82                  2600   \n",
       "7   1984           12         7.82                  2600   \n",
       "8   1985           15        93.72                   NES   \n",
       "9   1986           18        21.40                   NES   \n",
       "10  1987           16        31.16                   NES   \n",
       "11  1988           17        27.69                   NES   \n",
       "12  1989           20        76.87                   NES   \n",
       "13  1990           21        52.40                   NES   \n",
       "14  1991           34        60.64                  SNES   \n",
       "15  1992           40        74.95                  SNES   \n",
       "16  1993           61        64.19                  SNES   \n",
       "17  1994          104        62.97                  SNES   \n",
       "18  1995          193        95.48                    PS   \n",
       "19  1996          291       154.78                    PS   \n",
       "20  1997          264       178.68                    PS   \n",
       "21  1998          342       283.42                    PS   \n",
       "22  1999          359       268.49                    PS   \n",
       "23  2000          412       259.61                    PS   \n",
       "24  2001          508       346.26                   PS2   \n",
       "25  2002          821       389.25                   PS2   \n",
       "26  2003          813       400.79                   PS2   \n",
       "27  2004          785       452.77                   PS2   \n",
       "28  2005          964       456.29                   PS2   \n",
       "29  2006         1035       520.71                   PS2   \n",
       "30  2007         1236       634.62                    DS   \n",
       "31  2008         1536       734.62                    DS   \n",
       "32  2009         1616       694.39                    DS   \n",
       "33  2010         1401       676.41                    DS   \n",
       "34  2011         1299       633.36                   PS3   \n",
       "35  2012          755       455.69                   PS3   \n",
       "36  2013          639       470.88                   PS3   \n",
       "37  2014          755       454.16                    PC   \n",
       "38  2015          759       396.06                    PC   \n",
       "39  2016          780       368.75                    PC   \n",
       "40  2017          789       393.43                   PS4   \n",
       "41  2018          703       275.66                   PS4   \n",
       "42  2019           63       117.12                   PS4   \n",
       "43  2020           13        26.25                   PS4   \n",
       "\n",
       "                                Publisher1                      Publisher2  \\\n",
       "0                                    Atari                            None   \n",
       "1                                    Atari                           Sears   \n",
       "2                                    Atari                            None   \n",
       "3                               Activision                         Unknown   \n",
       "4                                    Atari                      Activision   \n",
       "5                                    Atari                      Activision   \n",
       "6                                    Atari                      Activision   \n",
       "7                                    Atari                        Nintendo   \n",
       "8                                 Nintendo                      Activision   \n",
       "9                                 Nintendo                          Capcom   \n",
       "10                                Nintendo                          Bandai   \n",
       "11                                Nintendo                          Tengen   \n",
       "12                                Nintendo                     Ultra Games   \n",
       "13                                Nintendo                          Capcom   \n",
       "14                                Nintendo                            Sega   \n",
       "15                                Nintendo                          Capcom   \n",
       "16                                Nintendo                          Capcom   \n",
       "17                                Nintendo           Acclaim Entertainment   \n",
       "18                                Nintendo     Sony Computer Entertainment   \n",
       "19                                Nintendo     Sony Computer Entertainment   \n",
       "20             Sony Computer Entertainment                        Nintendo   \n",
       "21                                Nintendo     Sony Computer Entertainment   \n",
       "22                                Nintendo     Sony Computer Entertainment   \n",
       "23                                Nintendo     Sony Computer Entertainment   \n",
       "24                                Nintendo     Sony Computer Entertainment   \n",
       "25                         Electronic Arts                        Nintendo   \n",
       "26                                Nintendo                 Electronic Arts   \n",
       "27                                Nintendo                 Electronic Arts   \n",
       "28                                Nintendo     Sony Computer Entertainment   \n",
       "29                                Nintendo                       EA Sports   \n",
       "30                                Nintendo                 Electronic Arts   \n",
       "31                                Nintendo                      Activision   \n",
       "32                                Nintendo                      Activision   \n",
       "33                                Nintendo                      Activision   \n",
       "34                                Nintendo                      Activision   \n",
       "35                                Nintendo                      Activision   \n",
       "36                                Nintendo                      Activision   \n",
       "37                                Nintendo                      Activision   \n",
       "38  Warner Bros. Interactive Entertainment                      Activision   \n",
       "39                                Nintendo                 Electronic Arts   \n",
       "40                                Nintendo                PUBG Corporation   \n",
       "41                                Nintendo  Sony Interactive Entertainment   \n",
       "42                                Nintendo                      Activision   \n",
       "43                                Nintendo  Sony Interactive Entertainment   \n",
       "\n",
       "                          most_popular_game  \n",
       "0                                    Combat  \n",
       "1                            Space Invaders  \n",
       "2                              Slot Machine  \n",
       "3                                    Boxing  \n",
       "4                                 Asteroids  \n",
       "5                                   Pac-Man  \n",
       "6                                   Mahjong  \n",
       "7                                   F1 Race  \n",
       "8                         Super Mario Bros.  \n",
       "9                 Super Mario Bros. 2 (FDS)  \n",
       "10                      The Legend of Zelda  \n",
       "11                      Super Mario Bros. 2  \n",
       "12                                   Tetris  \n",
       "13                      Super Mario Bros. 3  \n",
       "14                        Super Mario World  \n",
       "15       Super Mario Land 2: 6 Golden Coins  \n",
       "16                    Super Mario All-Stars  \n",
       "17                      Donkey Kong Country  \n",
       "18                                     Myst  \n",
       "19                           Super Mario 64  \n",
       "20                        Final Fantasy VII  \n",
       "21       Pokemon Red / Green / Blue Version  \n",
       "22  Pokemon Yellow: Special Pikachu Edition  \n",
       "23            Pokemon Gold / Silver Version  \n",
       "24                   Gran Turismo 3: A-Spec  \n",
       "25              Grand Theft Auto: Vice City  \n",
       "26          Pokemon Ruby / Sapphire Version  \n",
       "27            Grand Theft Auto: San Andreas  \n",
       "28                               Nintendogs  \n",
       "29                               Wii Sports  \n",
       "30                                 Wii Play  \n",
       "31                           Mario Kart Wii  \n",
       "32                        Wii Sports Resort  \n",
       "33                                Minecraft  \n",
       "34           Call of Duty: Modern Warfare 3  \n",
       "35         Counter-Strike: Global Offensive  \n",
       "36                       Grand Theft Auto V  \n",
       "37                       Grand Theft Auto V  \n",
       "38                 The Witcher 3: Wild Hunt  \n",
       "39                                  FIFA 17  \n",
       "40            PLAYERUNKNOWN'S BATTLEGROUNDS  \n",
       "41                    Red Dead Redemption 2  \n",
       "42             Call of Duty: Modern Warfare  \n",
       "43            Animal Crossing: New Horizons  "
      ]
     },
     "metadata": {},
     "output_type": "display_data"
    }
   ],
   "source": [
    "cursor = conn.cursor()\n",
    "data_sql_names = pd.read_sql(\"\"\"\n",
    "    WITH YearCountPlatform AS(\n",
    "                        SELECT\n",
    "                             Year, Platform AS most_popular_platform,\n",
    "                             RANK() OVER (PARTITION BY Year ORDER BY COUNT(*) DESC) AS rank_platform\n",
    "                        FROM game_sales_data\n",
    "                        GROUP BY Year, Platform \n",
    "    ),\n",
    "    YearCountGames AS(\n",
    "                        SELECT\n",
    "                             Year, Name AS most_popular_game,\n",
    "                             RANK() OVER (PARTITION BY Year ORDER BY SUM(Total_Shipped) DESC) AS rank_games\n",
    "                        FROM game_sales_data\n",
    "                        GROUP BY Year, Name \n",
    "    ),\n",
    "    PublisherRanking AS (\n",
    "                        SELECT Publisher, Year,  \n",
    "                            RANK() OVER(PARTITION BY Year ORDER BY SUM(Total_Shipped) DESC) AS rank\n",
    "                        FROM game_sales_data\n",
    "                        GROUP BY Publisher, Year\n",
    "    ),\n",
    "    PublisherRanking2 AS (\n",
    "                        SELECT Year,\n",
    "                             MAX(CASE WHEN rank = 1 THEN Publisher END) AS Publisher1,\n",
    "                             MAX(CASE WHEN rank = 2 THEN Publisher END) AS Publisher2\n",
    "                        FROM PublisherRanking GROUP BY Year\n",
    "    ),\n",
    "    StatYear AS (\n",
    "                        SELECT Year, COUNT(*) AS total_games, \n",
    "                             SUM(Total_Shipped) AS total_sales \n",
    "                        FROM game_sales_data\n",
    "                        GROUP BY Year\n",
    "    )\n",
    "    SELECT s.Year, \n",
    "            s.total_games, \n",
    "            s.total_sales,\n",
    "            p.most_popular_platform, \n",
    "            pr.Publisher1, \n",
    "            pr.Publisher2, \n",
    "            g.most_popular_game\n",
    "    FROM StatYear s \n",
    "    JOIN YearCountPlatform p ON p.Year = s.Year\n",
    "    JOIN YearCountGames g ON g.Year = s.Year   \n",
    "    JOIN PublisherRanking2 pr ON pr.Year = s.Year\n",
    "    WHERE (g.rank_games = 1) AND (p.rank_platform = 1)\n",
    "    ORDER BY s.Year;\n",
    "\"\"\", conn)\n",
    "\n",
    "display(data_sql_names)"
   ]
  },
  {
   "cell_type": "markdown",
   "metadata": {},
   "source": [
    "- **Nintendo dominated the industry for decades**, leading both in platform usage and best-selling games.  \n",
    "- **Sony & Microsoft platforms took over in later years**, especially with the **PS2, PS3, and PS4 eras**.  \n",
    "- **The most successful publishers varied** over time, with **EA, Ubisoft, Activision, and Nintendo** consistently ranking among the top.  \n",
    "- **Some games had multi-year dominance**, such as *Grand Theft Auto V* and *Minecraft*.  \n"
   ]
  },
  {
   "cell_type": "code",
   "execution_count": null,
   "metadata": {},
   "outputs": [],
   "source": []
  }
 ],
 "metadata": {
  "kernelspec": {
   "display_name": "Python 3",
   "language": "python",
   "name": "python3"
  },
  "language_info": {
   "codemirror_mode": {
    "name": "ipython",
    "version": 3
   },
   "file_extension": ".py",
   "mimetype": "text/x-python",
   "name": "python",
   "nbconvert_exporter": "python",
   "pygments_lexer": "ipython3",
   "version": "3.13.1"
  }
 },
 "nbformat": 4,
 "nbformat_minor": 2
}
